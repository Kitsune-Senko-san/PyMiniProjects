{
 "cells": [
  {
   "cell_type": "markdown",
   "id": "10ad940d",
   "metadata": {},
   "source": [
    "<h1 align=\"center\"><b> Page scraper </b></h1>\n",
    "\n",
    "---"
   ]
  },
  {
   "cell_type": "code",
   "execution_count": 1,
   "id": "8a723138",
   "metadata": {},
   "outputs": [
    {
     "name": "stdout",
     "output_type": "stream",
     "text": [
      "\tEnter a job keyword: Data\n",
      "№1 Title:  Data Platform Engineer\n",
      "Company:  Stitch Fix\n",
      "Company tags:\n",
      "\tFull-time\n",
      "\tHigh-paying\n",
      "Time from job posting:  2 weeks ago\n",
      "Link to the vacancy ->   https://remote.co/job/data-platform-engineer-1/\n",
      "\n",
      "№2 Title:  Staff Frontend Engineer, Dynamic Data\n",
      "Company:  Webflow\n",
      "Company tags:\n",
      "\tFull-time\n",
      "\tHigh-paying\n",
      "\tInternational\n",
      "Time from job posting:  4 weeks ago\n",
      "Link to the vacancy ->   https://remote.co/job/staff-frontend-engineer-dynamic-data-19/\n",
      "\n",
      "\n",
      "We have checked 50 vacancies.\n",
      "These are all matches at the moment.\n",
      "\n"
     ]
    }
   ],
   "source": [
    "\"\"\" Python scraping of one job page. \"\"\"\n",
    "import requests\n",
    "from bs4 import BeautifulSoup\n",
    "\n",
    "URL = 'https://remote.co/remote-jobs/developer/'\n",
    "page = requests.get(URL, timeout=15)\n",
    "\n",
    "find_by_keyword = input('\\tEnter a job keyword: ')\n",
    "\n",
    "# The .content attribute holds raw bytes, which can be decoded better than the text representation page.text\n",
    "soup = BeautifulSoup(page.content, 'html.parser')\n",
    "\n",
    "results = soup.find(class_='card bg-white m-0')\n",
    "jobs_list = results.find_all('a', class_='card m-0 border-left-0 border-right-0 border-top-0 border-bottom')\n",
    "\n",
    "counter_vacancies = 1\n",
    "for job in jobs_list:\n",
    "    vacancy_title = job.find('span', class_='font-weight-bold larger')\n",
    "    company_name = job.find('img', class_='card-img')\n",
    "    company_tags = job.find('p', class_='m-0 text-secondary')\n",
    "    time_from_publish = job.find('span', class_='float-right d-none d-md-inline text-secondary')\n",
    "    if find_by_keyword.lower() in vacancy_title.text.lower():\n",
    "        print(f'№{counter_vacancies} Title: ', vacancy_title.text)\n",
    "        print('Company: ', company_name[\"alt\"])\n",
    "        print('Company tags:')\n",
    "        for tag in company_tags.find_all('span', class_='badge badge-success'):\n",
    "            print('\\t' + tag.text)\n",
    "        print('Time from job posting: ', time_from_publish.text.strip())\n",
    "        print(\"Link to the vacancy ->  \", 'https://remote.co' + job[\"href\"])\n",
    "        print()\n",
    "        counter_vacancies += 1\n",
    "\n",
    "print(f\"\"\"\n",
    "We have checked {len(jobs_list)} vacancies.\n",
    "These are all matches at the moment.\n",
    "\"\"\")\n"
   ]
  }
 ],
 "metadata": {
  "kernelspec": {
   "display_name": "Python 3 (ipykernel)",
   "language": "python",
   "name": "python3"
  },
  "language_info": {
   "codemirror_mode": {
    "name": "ipython",
    "version": 3
   },
   "file_extension": ".py",
   "mimetype": "text/x-python",
   "name": "python",
   "nbconvert_exporter": "python",
   "pygments_lexer": "ipython3",
   "version": "3.10.7"
  }
 },
 "nbformat": 4,
 "nbformat_minor": 5
}
